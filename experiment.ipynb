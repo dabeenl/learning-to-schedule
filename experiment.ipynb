{
 "cells": [
  {
   "cell_type": "code",
   "execution_count": 1,
   "metadata": {},
   "outputs": [],
   "source": [
    "import numpy as np\n",
    "from numpy import random"
   ]
  },
  {
   "cell_type": "code",
   "execution_count": 2,
   "metadata": {},
   "outputs": [],
   "source": [
    "import pandas as pd"
   ]
  },
  {
   "cell_type": "code",
   "execution_count": 3,
   "metadata": {},
   "outputs": [],
   "source": [
    "import matplotlib.pyplot as plt\n",
    "import seaborn as sns"
   ]
  },
  {
   "cell_type": "code",
   "execution_count": 4,
   "metadata": {},
   "outputs": [],
   "source": [
    "import math"
   ]
  },
  {
   "cell_type": "code",
   "execution_count": 5,
   "metadata": {},
   "outputs": [],
   "source": [
    "from scipy.stats import bernoulli"
   ]
  },
  {
   "cell_type": "markdown",
   "metadata": {},
   "source": [
    "# Functions"
   ]
  },
  {
   "cell_type": "code",
   "execution_count": 6,
   "metadata": {},
   "outputs": [],
   "source": [
    "def remaining_jobs(remaining_service_times):\n",
    "    return np.array([i for i in range(N) if remaining_service_times[i] >= 1])\n",
    "\n",
    "def holding_cost(mean_values, jobs):\n",
    "    return np.sum([mean_values[i] for i in jobs])"
   ]
  },
  {
   "cell_type": "code",
   "execution_count": 7,
   "metadata": {},
   "outputs": [],
   "source": [
    "def select_job(t, samples, jobs):\n",
    "    empirical_means = np.array([np.mean(samples[i][0:t+1]) for i in jobs])\n",
    "    return jobs[np.argmax(empirical_means)]\n",
    "\n",
    "def select_job_pre(t, samples, service_times, jobs):\n",
    "    c_mu = np.array([(np.mean(samples[i][0:t+1]) / service_times[i]) for i in jobs])\n",
    "    return jobs[np.argmax(c_mu)]\n",
    "\n",
    "def serve(i, remaining_service_times):\n",
    "    remaining_service_times[i] -= 1\n",
    "    \n",
    "def complete(i, remaining_service_times):\n",
    "    remaining_service_times[i] = 0"
   ]
  },
  {
   "cell_type": "code",
   "execution_count": 8,
   "metadata": {},
   "outputs": [],
   "source": [
    "def optimal(mean_values):\n",
    "    sorted_values = np.sort(mean_values)\n",
    "    total_cost = 0\n",
    "    for i in range(N):\n",
    "        total_cost += (N-i)*T*sorted_values[i]\n",
    "    return total_cost"
   ]
  },
  {
   "cell_type": "code",
   "execution_count": 9,
   "metadata": {},
   "outputs": [],
   "source": [
    "def preemptive(mean_values, samples):\n",
    "    remaining_service_times = np.array([T for i in range(N)])\n",
    "    total_holding_cost = 0\n",
    "    for t in range(N*T):\n",
    "        active_jobs = remaining_jobs(remaining_service_times)\n",
    "        total_holding_cost += holding_cost(mean_values, active_jobs)\n",
    "        serve(select_job(t, samples, active_jobs), remaining_service_times)\n",
    "        #serve(select_job_pre(t, samples, remaining_service_times, active_jobs), remaining_service_times)\n",
    "    return total_holding_cost"
   ]
  },
  {
   "cell_type": "code",
   "execution_count": 10,
   "metadata": {},
   "outputs": [],
   "source": [
    "def nonpreemptive(mean_values, samples):\n",
    "    remaining_service_times = np.array([T for i in range(N)])\n",
    "    total_holding_cost = 0\n",
    "    for i in range(N):\n",
    "        active_jobs = remaining_jobs(remaining_service_times)\n",
    "        total_holding_cost += T*holding_cost(mean_values, active_jobs)\n",
    "        complete(select_job(i*T, samples, active_jobs), remaining_service_times)\n",
    "    return total_holding_cost"
   ]
  },
  {
   "cell_type": "code",
   "execution_count": 11,
   "metadata": {},
   "outputs": [],
   "source": [
    "def preemptive_then_nonpreemptive(mean_values, samples):\n",
    "    S = math.floor( (T**(2/3)) * (np.log(N*T)) / C)\n",
    "    remaining_service_times = np.array([T for i in range(N)])\n",
    "    total_holding_cost = 0\n",
    "    for t in range(S):\n",
    "        active_jobs = remaining_jobs(remaining_service_times)\n",
    "        total_holding_cost += holding_cost(mean_values, active_jobs)\n",
    "        serve(select_job(t, samples, active_jobs), remaining_service_times)\n",
    "    \n",
    "    time_steps_past = S\n",
    "    for i in range(N):\n",
    "        active_jobs = remaining_jobs(remaining_service_times)\n",
    "        job_chosen = select_job(time_steps_past, samples, active_jobs)\n",
    "        remaining_service_time = remaining_service_times[job_chosen]\n",
    "        total_holding_cost += remaining_service_time*holding_cost(mean_values, active_jobs)\n",
    "        time_steps_past += remaining_service_time\n",
    "        complete(job_chosen, remaining_service_times)\n",
    "    return total_holding_cost"
   ]
  },
  {
   "cell_type": "markdown",
   "metadata": {},
   "source": [
    "# Running experiments"
   ]
  },
  {
   "cell_type": "markdown",
   "metadata": {},
   "source": [
    "- $N$ is the number of jobs\n",
    "- $T$ is the service time of each job, counted as the number of required time steps\n",
    "- $T_s$ is set to $T^{2/3}\\log NT$ in our paper, but it is okay to have \n",
    "$$T_s = C\\left(T^{2/3}\\log NT\\right)$$\n",
    "for any constant multiplicative factor."
   ]
  },
  {
   "cell_type": "code",
   "execution_count": 13,
   "metadata": {},
   "outputs": [
    {
     "data": {
      "text/plain": [
       "168"
      ]
     },
     "execution_count": 13,
     "metadata": {},
     "output_type": "execute_result"
    }
   ],
   "source": [
    "N = 20\n",
    "T = 2000\n",
    "C = 10\n",
    "\n",
    "# the length of the alternation period\n",
    "math.floor( (T**(2/3)) * (np.log(N*T)) / C) "
   ]
  },
  {
   "cell_type": "markdown",
   "metadata": {},
   "source": [
    "## Creating an output file"
   ]
  },
  {
   "cell_type": "code",
   "execution_count": 14,
   "metadata": {},
   "outputs": [],
   "source": [
    "def create_output_files():\n",
    "    column_labels = ['num_jobs', 'service_time', 'eps', 'instance_number', 'OPT', \n",
    "                     'preemptive', 'non-preemptive', 'pre-non-pre']\n",
    "    df = pd.DataFrame(columns=column_labels)\n",
    "    df.to_csv('results_raw_data.csv', index=False)"
   ]
  },
  {
   "cell_type": "code",
   "execution_count": 15,
   "metadata": {},
   "outputs": [],
   "source": [
    "create_output_files()"
   ]
  },
  {
   "cell_type": "markdown",
   "metadata": {},
   "source": [
    "## Sampling mean holding costs"
   ]
  },
  {
   "cell_type": "markdown",
   "metadata": {},
   "source": [
    "- preemtive scheduling is appropriate when $c_1,\\ldots, c_N$ have large gaps.\n",
    "- non-preemptive scheduling is better when $c_1,\\ldots, c_N$ are close.\n",
    "- We sample $c_1,\\ldots,c_N$ from $[0.5-\\epsilon, 0.5+\\epsilon]$ while varying the size of $\\epsilon$.\n",
    "- When $\\epsilon$ is small, non-preemtive scheduling is expected to be better than preemptive scheduling.\n",
    "- When $\\epsilon$ is large, preemptive scheduling should be better."
   ]
  },
  {
   "cell_type": "code",
   "execution_count": 35,
   "metadata": {},
   "outputs": [],
   "source": [
    "eps_list = np.array([0.01*i for i in range(51)])\n",
    "eps_list[0] = 0.001"
   ]
  },
  {
   "cell_type": "markdown",
   "metadata": {},
   "source": [
    "## Testing different values of $\\epsilon$"
   ]
  },
  {
   "cell_type": "markdown",
   "metadata": {},
   "source": [
    "- it_num: the number of randomly generated instances we test for each value of $\\epsilon$."
   ]
  },
  {
   "cell_type": "code",
   "execution_count": 36,
   "metadata": {},
   "outputs": [],
   "source": [
    "it_num = 400\n",
    "\n",
    "T=2000\n",
    "\n",
    "for eps in eps_list:\n",
    "    for i in range(it_num):\n",
    "        mean_values = np.random.uniform(0.5-eps, 0.5+eps, N)\n",
    "        samples = np.array([bernoulli.rvs(mean_values[i], size=N*T) for i in range(N)])\n",
    "        \n",
    "        OPT = optimal(mean_values)\n",
    "        pre = preemptive(mean_values, samples) - OPT\n",
    "        non = nonpreemptive(mean_values, samples) - OPT\n",
    "        pre_non_pre = preemptive_then_nonpreemptive(mean_values, samples) - OPT\n",
    "\n",
    "        df = pd.read_csv('results/T=2000/results_raw_data.csv')\n",
    "        df = df.append({'num_jobs': N, 'service_time': T, 'eps': eps, 'instance_number': i+101, 'OPT': OPT, \n",
    "                        'preemptive': pre, 'non-preemptive': non, 'pre-non-pre': pre_non_pre}, ignore_index = True)\n",
    "        df.to_csv('results/T=2000/results_raw_data.csv', index=False)"
   ]
  },
  {
   "cell_type": "markdown",
   "metadata": {},
   "source": [
    "## Testing different values of $T$ (large $\\epsilon$)"
   ]
  },
  {
   "cell_type": "code",
   "execution_count": null,
   "metadata": {},
   "outputs": [],
   "source": [
    "it_num = 400\n",
    "\n",
    "N = 20 \n",
    "T_list = [20, 50, 100, 500, 1000, 1500, 2500, 3000, 5000, 7000, 9000, 10000, 20000, 30000, 40000, 50000, 80000, 100000, 200000,400000,600000,800000, 1000000]\n",
    "\n",
    "for T_value in T_list:\n",
    "    T = T_value\n",
    "    eps = 0.5\n",
    "    for i in range(it_num):\n",
    "        mean_values = np.random.uniform(0.5-eps, 0.5+eps, N)\n",
    "        samples = np.array([bernoulli.rvs(mean_values[i], size=N*T) for i in range(N)])\n",
    "        \n",
    "        OPT = optimal(mean_values)\n",
    "        pre_non_pre = preemptive_then_nonpreemptive(mean_values, samples) - OPT\n",
    "\n",
    "        df = pd.read_csv('results/large-eps/results_raw_data.csv')\n",
    "        df = df.append({'num_jobs': N, 'service_time': T, 'eps': eps, 'instance_number': i+101, 'OPT': OPT, \n",
    "                        'preemptive': 0, 'non-preemptive': 0, 'pre-non-pre': pre_non_pre}, ignore_index = True)\n",
    "        df.to_csv('results/large-eps/results_raw_data.csv', index=False)"
   ]
  },
  {
   "cell_type": "markdown",
   "metadata": {},
   "source": [
    "## Testing different values of $T$ (small $\\epsilon$)"
   ]
  },
  {
   "cell_type": "code",
   "execution_count": null,
   "metadata": {},
   "outputs": [],
   "source": [
    "it_num = 400\n",
    "\n",
    "N = 20 \n",
    "T_list = [20, 50, 100, 500, 1000, 1500, 2500, 3000, 5000, 7000, 9000, 10000, 20000, 30000, 40000, 50000, 80000, 100000, 200000,400000,600000,800000, 1000000]\n",
    "\n",
    "for T_value in T_list:\n",
    "    T = T_value\n",
    "    eps = 0.001\n",
    "    for i in range(it_num):\n",
    "        mean_values = np.random.uniform(0.5-eps, 0.5+eps, N)\n",
    "        samples = np.array([bernoulli.rvs(mean_values[i], size=N*T) for i in range(N)])\n",
    "        \n",
    "        OPT = optimal(mean_values)\n",
    "        pre_non_pre = preemptive_then_nonpreemptive(mean_values, samples) - OPT\n",
    "\n",
    "        df = pd.read_csv('results/small-eps/results_raw_data.csv')\n",
    "        df = df.append({'num_jobs': N, 'service_time': T, 'eps': eps, 'instance_number': i+101, 'OPT': OPT, \n",
    "                        'preemptive': 0, 'non-preemptive': 0, 'pre-non-pre': pre_non_pre}, ignore_index = True)\n",
    "        df.to_csv('results/small-eps/results_raw_data.csv', index=False)"
   ]
  },
  {
   "cell_type": "markdown",
   "metadata": {},
   "source": [
    "## Testing different values of $N$ (large $\\epsilon$)"
   ]
  },
  {
   "cell_type": "code",
   "execution_count": null,
   "metadata": {},
   "outputs": [],
   "source": [
    "it_num = 400\n",
    "\n",
    "T = 1000\n",
    "N_list = [2, 5, 10, 50, 70, 100, 200, 300, 400, 500, 600, 700, 800, 900, 1000]\n",
    "\n",
    "for N_value in N_list:\n",
    "    N = N_value\n",
    "    eps = 0.5\n",
    "    for i in range(it_num):\n",
    "        mean_values = np.random.uniform(0.5-eps, 0.5+eps, N)\n",
    "        samples = np.array([bernoulli.rvs(mean_values[i], size=N*T) for i in range(N)])\n",
    "        \n",
    "        OPT = optimal(mean_values)\n",
    "        pre_non_pre = preemptive_then_nonpreemptive(mean_values, samples) - OPT\n",
    "\n",
    "        df = pd.read_csv('results/large-eps/results_raw_data.csv')\n",
    "        df = df.append({'num_jobs': N, 'service_time': T, 'eps': eps, 'instance_number': i+101, 'OPT': OPT, \n",
    "                        'preemptive': 0, 'non-preemptive': 0, 'pre-non-pre': pre_non_pre}, ignore_index = True)\n",
    "        df.to_csv('results/large-eps/results_raw_data.csv', index=False)"
   ]
  },
  {
   "cell_type": "code",
   "execution_count": null,
   "metadata": {},
   "outputs": [],
   "source": [
    "it_num = 400\n",
    "\n",
    "T = 1000\n",
    "N_list = [2, 5, 10, 50, 70, 100, 200, 300, 400, 500, 600, 700, 800, 900, 1000]\n",
    "\n",
    "for N_value in N_list:\n",
    "    N = N_value\n",
    "    eps = 0.001\n",
    "    for i in range(it_num):\n",
    "        mean_values = np.random.uniform(0.5-eps, 0.5+eps, N)\n",
    "        samples = np.array([bernoulli.rvs(mean_values[i], size=N*T) for i in range(N)])\n",
    "        \n",
    "        OPT = optimal(mean_values)\n",
    "        pre_non_pre = preemptive_then_nonpreemptive(mean_values, samples) - OPT\n",
    "\n",
    "        df = pd.read_csv('results/small-eps/results_raw_data.csv')\n",
    "        df = df.append({'num_jobs': N, 'service_time': T, 'eps': eps, 'instance_number': i+101, 'OPT': OPT, \n",
    "                        'preemptive': 0, 'non-preemptive': 0, 'pre-non-pre': pre_non_pre}, ignore_index = True)\n",
    "        df.to_csv('results/small-eps/results_raw_data.csv', index=False)"
   ]
  },
  {
   "cell_type": "code",
   "execution_count": null,
   "metadata": {},
   "outputs": [],
   "source": [
    "it_num = 500\n",
    "\n",
    "T = 1000\n",
    "N_list = [1500, 2000, 2500, 3000, 3500, 4000, 4500, 5000, 5500, 6000, 6500, 7000, 7500, 8000, 8500, 9000, 9500, 10000]\n",
    "\n",
    "for N_value in N_list:\n",
    "    N = N_value\n",
    "    eps = 0.001\n",
    "    for i in range(it_num):\n",
    "        mean_values = np.random.uniform(0.5-eps, 0.5+eps, N)\n",
    "        samples = np.array([bernoulli.rvs(mean_values[i], size=N*T) for i in range(N)])\n",
    "        \n",
    "        OPT = optimal(mean_values)\n",
    "        pre_non_pre = preemptive_then_nonpreemptive(mean_values, samples) - OPT\n",
    "\n",
    "        df = pd.read_csv('results/small-eps/results_raw_data.csv')\n",
    "        df = df.append({'num_jobs': N, 'service_time': T, 'eps': eps, 'instance_number': i+101, 'OPT': OPT, \n",
    "                        'preemptive': 0, 'non-preemptive': 0, 'pre-non-pre': pre_non_pre}, ignore_index = True)\n",
    "        df.to_csv('results/small-eps/results_raw_data.csv', index=False)"
   ]
  },
  {
   "cell_type": "code",
   "execution_count": null,
   "metadata": {},
   "outputs": [],
   "source": [
    "it_num = 500\n",
    "\n",
    "T = 1000\n",
    "N_list = [1500, 2000, 2500, 3000, 3500, 4000, 4500, 5000, 5500, 6000, 6500, 7000, 7500, 8000, 8500, 9000, 9500, 10000]\n",
    "\n",
    "for N_value in N_list:\n",
    "    N = N_value\n",
    "    eps = 0.5\n",
    "    for i in range(it_num):\n",
    "        mean_values = np.random.uniform(0.5-eps, 0.5+eps, N)\n",
    "        samples = np.array([bernoulli.rvs(mean_values[i], size=N*T) for i in range(N)])\n",
    "        \n",
    "        OPT = optimal(mean_values)\n",
    "        pre_non_pre = preemptive_then_nonpreemptive(mean_values, samples) - OPT\n",
    "\n",
    "        df = pd.read_csv('results/large-eps/results_raw_data.csv')\n",
    "        df = df.append({'num_jobs': N, 'service_time': T, 'eps': eps, 'instance_number': i+1, 'OPT': OPT, \n",
    "                        'preemptive': 0, 'non-preemptive': 0, 'pre-non-pre': pre_non_pre}, ignore_index = True)\n",
    "        df.to_csv('results/large-eps/results_raw_data.csv', index=False)"
   ]
  },
  {
   "cell_type": "markdown",
   "metadata": {},
   "source": [
    "## Drawing plots"
   ]
  },
  {
   "cell_type": "markdown",
   "metadata": {},
   "source": [
    "### Regret\n",
    "\n",
    "The regret value of an algorithm is defined as follows:\n",
    "$$\\text{Regret = the total holding cost of the algorithm - the minimum holding cost (OPT)}.$$\n",
    "\n",
    "We compare three different algorithms:\n",
    "- preemptive: serve jobs in a fully preemptive fashion.\n",
    "- nonpreemptive: serve jobs in a fully nonpreemptive fashion.\n",
    "- preemptive-then-nonpreemptive: our algorithm"
   ]
  },
  {
   "cell_type": "code",
   "execution_count": 26,
   "metadata": {},
   "outputs": [
    {
     "data": {
      "image/png": "[encoded data removed]",
      "text/plain": [
       "<Figure size 432x288 with 1 Axes>"
      ]
     },
     "metadata": {
      "needs_background": "light"
     },
     "output_type": "display_data"
    }
   ],
   "source": [
    "df = pd.read_csv('results/T=2000/results_raw_data.csv')\n",
    "filt = (df['num_jobs'] == 20) & (df['service_time'] == 2000)\n",
    "filtered = df[filt]\n",
    "sns.lineplot(x=filtered['eps'], y=filtered['preemptive'], label='preemptive', color = 'orange')\n",
    "sns.lineplot(x=filtered['eps'], y=filtered['non-preemptive'], label='nonpreemptive', color = 'green')\n",
    "sns.lineplot(x=filtered['eps'], y=filtered['pre-non-pre'], label='preemptive-then-nonpreemptive', color = 'blue')\n",
    "\n",
    "plt.xlabel(r'$\\epsilon$', fontsize=20)\n",
    "plt.ylabel(\"Regret\", fontsize=20)\n",
    "plt.legend(fontsize=14)\n",
    "plt.xticks(fontsize=18)\n",
    "plt.yticks(fontsize=14)\n",
    "plt.savefig('uniform-regret.pdf', bbox_inches = 'tight')"
   ]
  },
  {
   "cell_type": "markdown",
   "metadata": {},
   "source": [
    "### Relative regret\n",
    "\n",
    "The notion of approximation ratio is a measure of analyzing an algorithm, which is defined as \n",
    "$$\\frac{\\text{Total holding cost of the algorithm}}{\\text{Minimum holding cost (OPT)}}.$$\n",
    "\n",
    "Here, we look at a related quantity, which we call the \"relative regret\", defined as\n",
    "$$\\frac{\\text{Regret}}{\\text{Minimum holding cost (OPT)}}\\text{ = the approximation ratio }-1$$"
   ]
  },
  {
   "cell_type": "code",
   "execution_count": 25,
   "metadata": {},
   "outputs": [
    {
     "data": {
      "image/png": "[encoded data removed]",
      "text/plain": [
       "<Figure size 432x288 with 1 Axes>"
      ]
     },
     "metadata": {
      "needs_background": "light"
     },
     "output_type": "display_data"
    }
   ],
   "source": [
    "df = pd.read_csv('results/T=2000/results_raw_data.csv')\n",
    "filt = (df['num_jobs'] == 20) & (df['service_time'] == 2000)\n",
    "filtered = df[filt]\n",
    "sns.lineplot(x=filtered['eps'], y=filtered['preemptive']/filtered['OPT'], label='preemptive', color = 'orange')\n",
    "sns.lineplot(x=filtered['eps'], y=filtered['non-preemptive']/filtered['OPT'], label='nonpreemptive',  color = 'green')\n",
    "sns.lineplot(x=filtered['eps'], y=filtered['pre-non-pre']/filtered['OPT'], label='preemptive-then-nonpreemptive', color='blue')\n",
    "plt.xlabel(r'$\\epsilon$', fontsize=20)\n",
    "plt.ylabel(\"Relative regret\", fontsize=20)\n",
    "plt.legend(fontsize=14)\n",
    "plt.xticks(fontsize=18)\n",
    "plt.yticks(fontsize=18)\n",
    "plt.savefig('uniform-relative.pdf', bbox_inches = 'tight')"
   ]
  },
  {
   "cell_type": "markdown",
   "metadata": {},
   "source": [
    "### Dependence on $T$ ($N=20$ & small $\\epsilon$)"
   ]
  },
  {
   "cell_type": "markdown",
   "metadata": {},
   "source": [
    "#### Up to $T=100000$"
   ]
  },
  {
   "cell_type": "code",
   "execution_count": 24,
   "metadata": {},
   "outputs": [
    {
     "data": {
      "image/png": "[encoded data removed]",
      "text/plain": [
       "<Figure size 432x288 with 1 Axes>"
      ]
     },
     "metadata": {
      "needs_background": "light"
     },
     "output_type": "display_data"
    }
   ],
   "source": [
    "df = pd.read_csv('results/small-eps/results_raw_data.csv')\n",
    "filt = (df['num_jobs'] == 20) & (df['preemptive'] == 0) & (df['service_time'] <1200000)\n",
    "filtered = df[filt]\n",
    "sns.lineplot(x=filtered['service_time'], y=filtered['pre-non-pre'], err_style=\"bars\", color='blue')\n",
    "plt.xlabel(r'$T$', fontsize=20)\n",
    "plt.ylabel(\"Regret\", fontsize=20)\n",
    "plt.xscale('log')\n",
    "plt.yscale('log')\n",
    "plt.xticks(fontsize=18)\n",
    "plt.yticks(fontsize=18)\n",
    "plt.grid()\n",
    "plt.savefig('uniform-T.pdf', bbox_inches = 'tight')"
   ]
  },
  {
   "cell_type": "markdown",
   "metadata": {},
   "source": [
    "### Dependence on $N$ ($T=1000$ fixed & small $\\epsilon$)"
   ]
  },
  {
   "cell_type": "code",
   "execution_count": 23,
   "metadata": {},
   "outputs": [
    {
     "data": {
      "image/png": "[encoded data removed]",
      "text/plain": [
       "<Figure size 432x288 with 1 Axes>"
      ]
     },
     "metadata": {
      "needs_background": "light"
     },
     "output_type": "display_data"
    }
   ],
   "source": [
    "df = pd.read_csv('results/small-eps/results_raw_data.csv')\n",
    "filt = (df['service_time'] == 1000) & (df['preemptive'] == 0)\n",
    "filtered = df[filt]\n",
    "sns.lineplot(x=filtered['num_jobs'], y=filtered['pre-non-pre'], err_style=\"bars\", color='blue')\n",
    "plt.xlabel(r'$N$', fontsize=20)\n",
    "plt.ylabel(\"Regret\", fontsize=20)\n",
    "plt.xscale('log')\n",
    "plt.yscale('log')\n",
    "plt.xticks(fontsize=18)\n",
    "plt.yticks(fontsize=18)\n",
    "plt.grid()\n",
    "plt.savefig('uniform-N.pdf', bbox_inches = 'tight')"
   ]
  },
  {
   "cell_type": "code",
   "execution_count": null,
   "metadata": {},
   "outputs": [],
   "source": []
  },
  {
   "cell_type": "code",
   "execution_count": null,
   "metadata": {},
   "outputs": [],
   "source": []
  }
 ],
 "metadata": {
  "kernelspec": {
   "display_name": "Python 3",
   "language": "python",
   "name": "python3"
  },
  "language_info": {
   "codemirror_mode": {
    "name": "ipython",
    "version": 3
   },
   "file_extension": ".py",
   "mimetype": "text/x-python",
   "name": "python",
   "nbconvert_exporter": "python",
   "pygments_lexer": "ipython3",
   "version": "3.8.5"
  }
 },
 "nbformat": 4,
 "nbformat_minor": 4
}
