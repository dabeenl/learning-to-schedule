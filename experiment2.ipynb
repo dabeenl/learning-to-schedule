{
 "cells": [
  {
   "cell_type": "code",
   "execution_count": 1,
   "metadata": {},
   "outputs": [],
   "source": [
    "import numpy as np\n",
    "from numpy import random"
   ]
  },
  {
   "cell_type": "code",
   "execution_count": 2,
   "metadata": {},
   "outputs": [],
   "source": [
    "import pandas as pd"
   ]
  },
  {
   "cell_type": "code",
   "execution_count": 3,
   "metadata": {},
   "outputs": [],
   "source": [
    "import matplotlib.pyplot as plt\n",
    "import seaborn as sns"
   ]
  },
  {
   "cell_type": "code",
   "execution_count": 4,
   "metadata": {},
   "outputs": [],
   "source": [
    "import math"
   ]
  },
  {
   "cell_type": "code",
   "execution_count": 5,
   "metadata": {},
   "outputs": [],
   "source": [
    "from scipy.stats import bernoulli"
   ]
  },
  {
   "cell_type": "markdown",
   "metadata": {},
   "source": [
    "# Functions"
   ]
  },
  {
   "cell_type": "code",
   "execution_count": 6,
   "metadata": {},
   "outputs": [],
   "source": [
    "def sample_service_times(num_jobs, parameter):\n",
    "    a = parameter\n",
    "    return np.array([math.floor(t)+100 for t in random.pareto(a, num_jobs)])"
   ]
  },
  {
   "cell_type": "code",
   "execution_count": 7,
   "metadata": {},
   "outputs": [],
   "source": [
    "def remaining_jobs(remaining_service_times):\n",
    "    return np.array([i for i in range(N) if remaining_service_times[i] >= 1])\n",
    "\n",
    "def holding_cost(mean_values, jobs):\n",
    "    return np.sum([mean_values[i] for i in jobs])"
   ]
  },
  {
   "cell_type": "code",
   "execution_count": 8,
   "metadata": {},
   "outputs": [],
   "source": [
    "def select_job(t, samples, service_times, jobs):\n",
    "    c_mu = np.array([(np.mean(samples[i][0:t+1]) / service_times[i]) for i in jobs])\n",
    "    return jobs[np.argmax(c_mu)]\n",
    "\n",
    "def serve(i, remaining_service_times):\n",
    "    remaining_service_times[i] -= 1\n",
    "    \n",
    "def complete(i, remaining_service_times):\n",
    "    remaining_service_times[i] = 0"
   ]
  },
  {
   "cell_type": "code",
   "execution_count": 9,
   "metadata": {},
   "outputs": [],
   "source": [
    "def optimal(mean_values, service_times):\n",
    "    sorted_jobs = np.argsort(- mean_values / service_times)\n",
    "    total_cost = 0\n",
    "    for i in range(N):\n",
    "        for j in range(N):\n",
    "            if j>= i:\n",
    "                total_cost += mean_values[sorted_jobs[j]] * service_times[sorted_jobs[i]]\n",
    "    return total_cost"
   ]
  },
  {
   "cell_type": "code",
   "execution_count": 10,
   "metadata": {},
   "outputs": [],
   "source": [
    "def preemptive(mean_values, service_times, samples):\n",
    "    remaining_service_times = service_times\n",
    "    initial_times = np.array([service_times[i] for i in range(N)])\n",
    "    total_holding_cost = 0\n",
    "    active_jobs = np.array(range(N))\n",
    "    t = 0\n",
    "    while active_jobs.size > 1:\n",
    "        total_holding_cost += holding_cost(mean_values, active_jobs)\n",
    "        #serve(select_job(t, samples, service_times, active_jobs), remaining_service_times)\n",
    "        serve(select_job(t, samples, initial_times, active_jobs), remaining_service_times)\n",
    "        active_jobs = remaining_jobs(remaining_service_times)\n",
    "        t += 1\n",
    "    total_holding_cost += remaining_service_times[active_jobs[0]] * mean_values[active_jobs[0]]\n",
    "    return total_holding_cost"
   ]
  },
  {
   "cell_type": "code",
   "execution_count": 11,
   "metadata": {},
   "outputs": [],
   "source": [
    "def nonpreemptive(mean_values, service_times, samples):\n",
    "    remaining_service_times = service_times\n",
    "    total_holding_cost = 0\n",
    "    t = 0\n",
    "    for i in range(N):\n",
    "        active_jobs = remaining_jobs(remaining_service_times)\n",
    "        selected = select_job(t, samples, service_times, active_jobs)\n",
    "        total_holding_cost += remaining_service_times[selected]*holding_cost(mean_values, active_jobs)\n",
    "        t +=  remaining_service_times[selected]\n",
    "        complete(selected, remaining_service_times)\n",
    "    return total_holding_cost"
   ]
  },
  {
   "cell_type": "code",
   "execution_count": 12,
   "metadata": {},
   "outputs": [],
   "source": [
    "def preemptive_then_nonpreemptive(mean_values, service_times, samples):\n",
    "    max_service_time = np.max(service_times)\n",
    "    S = math.floor( (max_service_time**(2/3)) * (np.log(N*max_service_time)) / C)\n",
    "    S = np.min([np.min(service_times), S])\n",
    "    remaining_service_times = service_times\n",
    "    total_holding_cost = 0\n",
    "\n",
    "    active_jobs = np.array(range(N))\n",
    "    for t in range(S):\n",
    "        total_holding_cost += holding_cost(mean_values, active_jobs)\n",
    "        serve(select_job(t, samples, service_times, active_jobs), remaining_service_times)\n",
    "        active_jobs = remaining_jobs(remaining_service_times)\n",
    "    \n",
    "    time_steps_past = S\n",
    "    while active_jobs.size > 0:\n",
    "        job_chosen = select_job(time_steps_past, samples, service_times, active_jobs)\n",
    "        remaining_service_time = remaining_service_times[job_chosen]\n",
    "        total_holding_cost += remaining_service_time*holding_cost(mean_values, active_jobs)\n",
    "        time_steps_past += remaining_service_time\n",
    "        complete(job_chosen, remaining_service_times)\n",
    "        active_jobs = remaining_jobs(remaining_service_times)\n",
    "    return total_holding_cost"
   ]
  },
  {
   "cell_type": "markdown",
   "metadata": {},
   "source": [
    "## Sampling mean holding costs"
   ]
  },
  {
   "cell_type": "code",
   "execution_count": 13,
   "metadata": {},
   "outputs": [],
   "source": [
    "eps_list = np.array([0.01*i for i in range(51)])\n",
    "eps_list[0] = 0.001"
   ]
  },
  {
   "cell_type": "markdown",
   "metadata": {},
   "source": [
    "## Testing different values of $\\epsilon$"
   ]
  },
  {
   "cell_type": "code",
   "execution_count": 16,
   "metadata": {},
   "outputs": [],
   "source": [
    "it_num = 500\n",
    "\n",
    "N = 20\n",
    "C = 100\n",
    "\n",
    "for eps in eps_list:\n",
    "    for i in range(it_num):\n",
    "        mean_values = np.random.uniform(0.5-eps, 0.5+eps, N)\n",
    "        service_times = sample_service_times(N, 0.7)\n",
    "        service_times1 = np.array([service_times[i] for i in range(N)])\n",
    "        service_times2 = np.array([service_times[i] for i in range(N)])\n",
    "        service_times3 = np.array([service_times[i] for i in range(N)])\n",
    "        samples = np.array([bernoulli.rvs(mean_values[i], size=np.sum(service_times)) for i in range(N)])\n",
    "        \n",
    "        OPT = optimal(mean_values, service_times)\n",
    "        pre = preemptive(mean_values, service_times1, samples) - OPT\n",
    "        non = nonpreemptive(mean_values, service_times2, samples) - OPT\n",
    "        pre_non_pre = preemptive_then_nonpreemptive(mean_values, service_times3, samples) - OPT\n",
    "\n",
    "        df = pd.read_csv('results_raw_data.csv')\n",
    "        df = df.append({'num_jobs': N, 'service_time': 10000, 'eps': eps, 'instance_number': i+1, 'OPT': OPT, \n",
    "                        'preemptive': pre, 'non-preemptive': non, 'pre-non-pre': pre_non_pre}, ignore_index = True)\n",
    "        df.to_csv('results_raw_data.csv', index=False)"
   ]
  },
  {
   "cell_type": "code",
   "execution_count": 6,
   "metadata": {},
   "outputs": [
    {
     "data": {
      "image/png": "[encoded data removed]",
      "text/plain": [
       "<Figure size 432x288 with 1 Axes>"
      ]
     },
     "metadata": {
      "needs_background": "light"
     },
     "output_type": "display_data"
    }
   ],
   "source": [
    "df = pd.read_csv('results/different/results_raw_data.csv')\n",
    "filt = (df['num_jobs'] == 20) & (df['service_time'] == 10000)\n",
    "filtered = df[filt]\n",
    "sns.lineplot(x=filtered['eps'], y=filtered['preemptive'], label='preemptive', color = 'orange')\n",
    "sns.lineplot(x=filtered['eps'], y=filtered['non-preemptive'], label='nonpreemptive', color = 'green')\n",
    "sns.lineplot(x=filtered['eps'], y=filtered['pre-non-pre'], label='preemptive-then-nonpreemptive', color = 'blue')\n",
    "plt.xlabel(r'$\\epsilon$', fontsize=20)\n",
    "plt.ylabel(\"Regret\", fontsize=20)\n",
    "plt.legend(fontsize=14)\n",
    "plt.xticks(fontsize=18)\n",
    "plt.yticks(fontsize=14)\n",
    "plt.savefig('hetero-regret.pdf', bbox_inches = 'tight')"
   ]
  },
  {
   "cell_type": "code",
   "execution_count": 9,
   "metadata": {},
   "outputs": [
    {
     "data": {
      "image/png": "[encoded data removed]",
      "text/plain": [
       "<Figure size 432x288 with 1 Axes>"
      ]
     },
     "metadata": {
      "needs_background": "light"
     },
     "output_type": "display_data"
    }
   ],
   "source": [
    "df = pd.read_csv('results/different/results_raw_data.csv')\n",
    "filt = (df['num_jobs'] == 20) & (df['service_time'] == 10000)\n",
    "filtered = df[filt]\n",
    "sns.lineplot(x=filtered['eps'], y=filtered['preemptive']/filtered['OPT'], label='preemptive', color = 'orange')\n",
    "sns.lineplot(x=filtered['eps'], y=filtered['non-preemptive']/filtered['OPT'], label='nonpreemptive', color = 'green')\n",
    "sns.lineplot(x=filtered['eps'], y=filtered['pre-non-pre']/filtered['OPT'], label='preemptive-then-nonpreemptive', color = 'blue')\n",
    "plt.xlabel(r'$\\epsilon$', fontsize=20)\n",
    "plt.ylabel(\"Relative regret\", fontsize=20)\n",
    "plt.legend(fontsize=14)\n",
    "plt.xticks(fontsize=18)\n",
    "plt.yticks(fontsize=18)\n",
    "plt.savefig('hetero-relative.pdf', bbox_inches = 'tight')"
   ]
  },
  {
   "cell_type": "code",
   "execution_count": 24,
   "metadata": {},
   "outputs": [
    {
     "data": {
      "text/plain": [
       "<matplotlib.legend.Legend at 0x7fcc3863e7c0>"
      ]
     },
     "execution_count": 24,
     "metadata": {},
     "output_type": "execute_result"
    },
    {
     "data": {
      "image/png": "[encoded data removed]",
      "text/plain": [
       "<Figure size 432x288 with 1 Axes>"
      ]
     },
     "metadata": {
      "needs_background": "light"
     },
     "output_type": "display_data"
    }
   ],
   "source": [
    "df = pd.read_csv('results/different/results_raw_data.csv')\n",
    "filt = (df['num_jobs'] == 20) & (df['service_time'] == 10000)\n",
    "filtered = df[filt]\n",
    "sns.lineplot(x=filtered['eps'], y=filtered['preemptive'], label='preemptive')\n",
    "#sns.lineplot(x=filtered['eps'], y=filtered['non-preemptive'], label='nonpreemptive')\n",
    "sns.lineplot(x=filtered['eps'], y=filtered['pre-non-pre'], label='preemptive-then-nonpreemptive')\n",
    "plt.xlabel(\"epsilon\")\n",
    "plt.ylabel(\"regret\")\n",
    "plt.legend()"
   ]
  },
  {
   "cell_type": "code",
   "execution_count": 246,
   "metadata": {},
   "outputs": [
    {
     "data": {
      "text/plain": [
       "array([ 1000,  1000,  1000,  1230,  1000,  1090,  1000,  1000,  1000,\n",
       "        2290,  1060,  1000,  1150,  4310,  7320,  1000,  1000,  1000,\n",
       "       54240,  1000])"
      ]
     },
     "execution_count": 246,
     "metadata": {},
     "output_type": "execute_result"
    }
   ],
   "source": [
    "(sample_service_times(20, 0.7)*10)"
   ]
  },
  {
   "cell_type": "code",
   "execution_count": 316,
   "metadata": {},
   "outputs": [],
   "source": [
    "mean_values = np.random.uniform(0.5-eps, 0.5+eps, N)\n",
    "service_times = sample_service_times(20, 0.7)*10\n",
    "service_times1 = np.array([service_times[i] for i in range(N)])\n",
    "service_times2 = np.array([service_times[i] for i in range(N)])\n",
    "service_times3 = np.array([service_times[i] for i in range(N)])\n",
    "samples = np.array([bernoulli.rvs(mean_values[i], size=np.sum(service_times)) for i in range(N)])"
   ]
  },
  {
   "cell_type": "code",
   "execution_count": 317,
   "metadata": {},
   "outputs": [
    {
     "data": {
      "text/plain": [
       "106956.75865752654"
      ]
     },
     "execution_count": 317,
     "metadata": {},
     "output_type": "execute_result"
    }
   ],
   "source": [
    "OPT = optimal(mean_values, service_times)\n",
    "OPT"
   ]
  },
  {
   "cell_type": "code",
   "execution_count": 318,
   "metadata": {},
   "outputs": [
    {
     "data": {
      "text/plain": [
       "107436.65590690228"
      ]
     },
     "execution_count": 318,
     "metadata": {},
     "output_type": "execute_result"
    }
   ],
   "source": [
    "preemptive(mean_values, service_times1, samples)"
   ]
  },
  {
   "cell_type": "code",
   "execution_count": 319,
   "metadata": {},
   "outputs": [
    {
     "data": {
      "text/plain": [
       "110419.3210874263"
      ]
     },
     "execution_count": 319,
     "metadata": {},
     "output_type": "execute_result"
    }
   ],
   "source": [
    "nonpreemptive(mean_values, service_times2, samples)"
   ]
  },
  {
   "cell_type": "code",
   "execution_count": 320,
   "metadata": {},
   "outputs": [
    {
     "data": {
      "text/plain": [
       "107214.10514158772"
      ]
     },
     "execution_count": 320,
     "metadata": {},
     "output_type": "execute_result"
    }
   ],
   "source": [
    "preemptive_then_nonpreemptive(mean_values, service_times3, samples)"
   ]
  },
  {
   "cell_type": "code",
   "execution_count": 273,
   "metadata": {},
   "outputs": [],
   "source": [
    "b = a\n"
   ]
  },
  {
   "cell_type": "code",
   "execution_count": 274,
   "metadata": {},
   "outputs": [
    {
     "data": {
      "text/plain": [
       "array([1, 2, 3])"
      ]
     },
     "execution_count": 274,
     "metadata": {},
     "output_type": "execute_result"
    }
   ],
   "source": [
    "b"
   ]
  },
  {
   "cell_type": "code",
   "execution_count": 275,
   "metadata": {},
   "outputs": [],
   "source": [
    "b[0] += 5"
   ]
  },
  {
   "cell_type": "code",
   "execution_count": 276,
   "metadata": {},
   "outputs": [
    {
     "data": {
      "text/plain": [
       "array([6, 2, 3])"
      ]
     },
     "execution_count": 276,
     "metadata": {},
     "output_type": "execute_result"
    }
   ],
   "source": [
    "a"
   ]
  },
  {
   "cell_type": "code",
   "execution_count": 297,
   "metadata": {},
   "outputs": [],
   "source": [
    "sorted_jobs = np.argsort(- mean_values / service_times)"
   ]
  },
  {
   "cell_type": "code",
   "execution_count": 300,
   "metadata": {},
   "outputs": [
    {
     "data": {
      "text/plain": [
       "array([0.00049926, 0.00050064, 0.00050073, 0.00048979, 0.00048504,\n",
       "       0.0004803 , 0.00050014, 0.00032683, 0.00049961, 0.00049065,\n",
       "       0.00048588, 0.00047678, 0.0004893 , 0.00048103, 0.00049962,\n",
       "       0.00037103, 0.00050039, 0.00049043, 0.00031898, 0.00038438])"
      ]
     },
     "execution_count": 300,
     "metadata": {},
     "output_type": "execute_result"
    }
   ],
   "source": [
    "mean_values / service_times"
   ]
  },
  {
   "cell_type": "code",
   "execution_count": 302,
   "metadata": {},
   "outputs": [
    {
     "data": {
      "text/plain": [
       "array([-0.00050073, -0.00050064, -0.00050039, -0.00050014, -0.00049962,\n",
       "       -0.00049961, -0.00049926, -0.00049065, -0.00049043, -0.00048979,\n",
       "       -0.0004893 , -0.00048588, -0.00048504, -0.00048103, -0.0004803 ,\n",
       "       -0.00047678, -0.00038438, -0.00037103, -0.00032683, -0.00031898])"
      ]
     },
     "execution_count": 302,
     "metadata": {},
     "output_type": "execute_result"
    }
   ],
   "source": [
    "np.sort(-mean_values / service_times)"
   ]
  },
  {
   "cell_type": "code",
   "execution_count": 303,
   "metadata": {},
   "outputs": [
    {
     "data": {
      "text/plain": [
       "array([ 2,  1, 16,  6, 14,  8,  0,  9, 17,  3, 12, 10,  4, 13,  5, 11, 19,\n",
       "       15,  7, 18])"
      ]
     },
     "execution_count": 303,
     "metadata": {},
     "output_type": "execute_result"
    }
   ],
   "source": [
    "np.argsort(-mean_values / service_times)"
   ]
  },
  {
   "cell_type": "code",
   "execution_count": 16,
   "metadata": {},
   "outputs": [
    {
     "data": {
      "text/plain": [
       "array([5.74509093e-01, 1.43041053e+00, 2.90248839e+00, 1.52375277e-02,\n",
       "       1.40464313e+00, 1.73233920e+01, 9.38076711e-03, 1.58469849e+02,\n",
       "       1.92837092e+01, 1.20369003e-01, 1.45591237e+00, 1.77408766e+01,\n",
       "       3.70782934e+02, 4.01078778e+01, 2.59561982e+00, 4.51197878e+00,\n",
       "       3.22400968e+00, 3.03853680e+00, 1.90603490e+00, 1.42124593e-02])"
      ]
     },
     "execution_count": 16,
     "metadata": {},
     "output_type": "execute_result"
    }
   ],
   "source": [
    "np.random.pareto(0.7, 20)"
   ]
  },
  {
   "cell_type": "code",
   "execution_count": 72,
   "metadata": {},
   "outputs": [
    {
     "data": {
      "text/plain": [
       "array([4.51461400e+00, 1.17831122e+00, 3.09719257e+00, 4.53244207e+01,\n",
       "       9.40295173e-01, 6.35535242e-01, 9.45401689e-01, 9.59221260e+00,\n",
       "       3.11054638e+02, 3.83612025e+00, 2.44251792e-01, 1.80782737e+00,\n",
       "       1.26596727e+00, 3.45164165e+00, 2.59205360e+01, 9.66192269e+00,\n",
       "       4.07661506e+00, 8.25894511e+00, 2.03290901e+00, 3.33874276e+01])"
      ]
     },
     "execution_count": 72,
     "metadata": {},
     "output_type": "execute_result"
    }
   ],
   "source": [
    "np.array(random.pareto(2, 20))*10"
   ]
  },
  {
   "cell_type": "code",
   "execution_count": 52,
   "metadata": {},
   "outputs": [
    {
     "data": {
      "text/plain": [
       "array([1010, 1000, 1000, 1000, 1000, 1000, 1010, 1000, 1000, 1000, 1000,\n",
       "       1020, 1000, 1000, 1020, 1000, 1020, 1000, 1000, 1030])"
      ]
     },
     "execution_count": 52,
     "metadata": {},
     "output_type": "execute_result"
    }
   ],
   "source": [
    "sample_service_times(20, 2)*10"
   ]
  },
  {
   "cell_type": "code",
   "execution_count": null,
   "metadata": {},
   "outputs": [],
   "source": []
  }
 ],
 "metadata": {
  "kernelspec": {
   "display_name": "Python 3",
   "language": "python",
   "name": "python3"
  },
  "language_info": {
   "codemirror_mode": {
    "name": "ipython",
    "version": 3
   },
   "file_extension": ".py",
   "mimetype": "text/x-python",
   "name": "python",
   "nbconvert_exporter": "python",
   "pygments_lexer": "ipython3",
   "version": "3.8.5"
  }
 },
 "nbformat": 4,
 "nbformat_minor": 4
}
