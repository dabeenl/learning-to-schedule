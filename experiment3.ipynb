{
 "cells": [
  {
   "cell_type": "code",
   "execution_count": 1,
   "metadata": {},
   "outputs": [],
   "source": [
    "import numpy as np\n",
    "from numpy import random"
   ]
  },
  {
   "cell_type": "code",
   "execution_count": 2,
   "metadata": {},
   "outputs": [],
   "source": [
    "import pandas as pd"
   ]
  },
  {
   "cell_type": "code",
   "execution_count": 3,
   "metadata": {},
   "outputs": [],
   "source": [
    "import matplotlib.pyplot as plt\n",
    "import seaborn as sns"
   ]
  },
  {
   "cell_type": "code",
   "execution_count": 4,
   "metadata": {},
   "outputs": [],
   "source": [
    "import math"
   ]
  },
  {
   "cell_type": "code",
   "execution_count": 5,
   "metadata": {},
   "outputs": [],
   "source": [
    "from scipy.stats import bernoulli"
   ]
  },
  {
   "cell_type": "markdown",
   "metadata": {},
   "source": [
    "# Functions"
   ]
  },
  {
   "cell_type": "code",
   "execution_count": 6,
   "metadata": {},
   "outputs": [],
   "source": [
    "def sample_service_rates(num_jobs, parameter):\n",
    "    a = parameter\n",
    "    return 1/np.array([math.floor(t)+100 for t in random.pareto(a, num_jobs)])"
   ]
  },
  {
   "cell_type": "code",
   "execution_count": 7,
   "metadata": {},
   "outputs": [],
   "source": [
    "def remaining_jobs(remaining):\n",
    "    return np.array([i for i in range(N) if remaining[i] >= 0.5])\n",
    "\n",
    "def holding_cost(mean_values, jobs):\n",
    "    return np.sum([mean_values[i] for i in jobs])"
   ]
  },
  {
   "cell_type": "code",
   "execution_count": 8,
   "metadata": {},
   "outputs": [],
   "source": [
    "def select_job(t, samples, mean_values, service_rates, jobs):\n",
    "    for i in jobs:\n",
    "        samples[i].append(bernoulli.rvs(mean_values[i], size=1)[0])\n",
    "    c_mu = np.array([(np.mean(samples[i][0:t+1]) * service_rates[i]) for i in jobs])\n",
    "    return jobs[np.argmax(c_mu)]\n",
    "\n",
    "def serve(i, service_rate, remaining):\n",
    "    remaining[i] = (1 - bernoulli.rvs(service_rate, size=1)[0])\n",
    "    if remaining[i] >= 0.5:\n",
    "        return 0\n",
    "    else:\n",
    "        return 1"
   ]
  },
  {
   "cell_type": "code",
   "execution_count": 9,
   "metadata": {},
   "outputs": [],
   "source": [
    "def optimal(mean_values, service_rates):\n",
    "    sorted_jobs = np.argsort(- mean_values * service_rates)\n",
    "    #print(sorted_jobs)\n",
    "    total_cost = 0\n",
    "    for i in range(N):\n",
    "        for j in range(N):\n",
    "            if j>= i:\n",
    "                total_cost += mean_values[sorted_jobs[j]] / service_rates[sorted_jobs[i]]\n",
    "    return total_cost"
   ]
  },
  {
   "cell_type": "code",
   "execution_count": 10,
   "metadata": {},
   "outputs": [],
   "source": [
    "def optimal_rule(mean_values, service_rates):\n",
    "    sorted_jobs = np.argsort(- mean_values * service_rates)\n",
    "    total_cost = 0\n",
    "    active_jobs = np.array(range(N))\n",
    "    remaining = np.ones(N)\n",
    "    for i in range(N):\n",
    "        served = 0\n",
    "        while not served:\n",
    "            total_cost += holding_cost(mean_values, active_jobs)\n",
    "            served = serve(sorted_jobs[i], service_rates[sorted_jobs[i]], remaining)\n",
    "            if served:\n",
    "                active_jobs = remaining_jobs(remaining)    \n",
    "    return total_cost"
   ]
  },
  {
   "cell_type": "code",
   "execution_count": 11,
   "metadata": {},
   "outputs": [],
   "source": [
    "def preemptive(mean_values, service_rates, samples):\n",
    "    total_cost = 0\n",
    "    active_jobs = np.array(range(N))\n",
    "    remaining = np.ones(N)\n",
    "    t = 0\n",
    "    while active_jobs.size >= 1:\n",
    "        total_cost += holding_cost(mean_values, active_jobs)\n",
    "        chosen_job = select_job(t, samples, mean_values, service_rates, active_jobs)\n",
    "        served = serve(chosen_job, service_rates[chosen_job], remaining)\n",
    "        if served:\n",
    "            active_jobs = remaining_jobs(remaining)\n",
    "        t += 1\n",
    "    return total_cost"
   ]
  },
  {
   "cell_type": "code",
   "execution_count": 12,
   "metadata": {},
   "outputs": [],
   "source": [
    "def nonpreemptive(mean_values, service_rates, samples):\n",
    "    total_cost = 0\n",
    "    remaining = np.ones(N)\n",
    "    t = 0\n",
    "    for i in range(N):\n",
    "        active_jobs = remaining_jobs(remaining)\n",
    "        selected = select_job(t, samples, mean_values, service_rates, active_jobs)\n",
    "        served = 0\n",
    "        while not served:\n",
    "            total_cost += holding_cost(mean_values, active_jobs)\n",
    "            served = serve(selected, service_rates[selected], remaining)\n",
    "            t += 1\n",
    "            for i in active_jobs:\n",
    "                samples[i].append(bernoulli.rvs(mean_values[i], size=1)[0])\n",
    "    return total_cost"
   ]
  },
  {
   "cell_type": "code",
   "execution_count": 13,
   "metadata": {},
   "outputs": [],
   "source": [
    "def preemptive_then_nonpreemptive(mean_values, service_rates, samples):\n",
    "    max_service_time = np.max(1/service_rates)\n",
    "    S = math.floor( (max_service_time**(2/3)) * (np.log(N*max_service_time)) / C)\n",
    "    S = np.min([math.floor(np.min(1/service_rates)), S])\n",
    "    \n",
    "    total_cost = 0\n",
    "    active_jobs = np.array(range(N))\n",
    "    remaining = np.ones(N)\n",
    "\n",
    "    for t in range(S):\n",
    "        total_cost += holding_cost(mean_values, active_jobs)\n",
    "        selected = select_job(t, samples, mean_values, service_rates, active_jobs)\n",
    "        served = serve(selected, service_rates[selected], remaining)\n",
    "        if served:\n",
    "            active_jobs = remaining_jobs(remaining)\n",
    "    \n",
    "    t = S\n",
    "    for i in range(active_jobs.size):\n",
    "        selected = select_job(t, samples, mean_values, service_rates, active_jobs)\n",
    "        served = 0 \n",
    "        while not served:\n",
    "            total_cost += holding_cost(mean_values, active_jobs)\n",
    "            served = serve(selected, service_rates[selected], remaining)\n",
    "            if served:\n",
    "                active_jobs = remaining_jobs(remaining)\n",
    "            t += 1\n",
    "            for i in active_jobs:\n",
    "                samples[i].append(bernoulli.rvs(mean_values[i], size=1)[0])\n",
    "    return total_cost"
   ]
  },
  {
   "cell_type": "code",
   "execution_count": 14,
   "metadata": {},
   "outputs": [],
   "source": [
    "def create_output_files_geo():\n",
    "    column_labels = ['num_jobs', 'service_time', 'eps', 'instance_number', 'rep_number', 'OPT', \n",
    "                     'preemptive', 'non-preemptive', 'pre-non-pre']\n",
    "    df = pd.DataFrame(columns=column_labels)\n",
    "    df.to_csv('results_geo.csv', index=False)"
   ]
  },
  {
   "cell_type": "code",
   "execution_count": 15,
   "metadata": {},
   "outputs": [],
   "source": [
    "create_output_files_geo()"
   ]
  },
  {
   "cell_type": "code",
   "execution_count": 16,
   "metadata": {},
   "outputs": [],
   "source": [
    "eps_list = np.array([0.1*i for i in range(6)])\n",
    "eps_list[0] = 0.001"
   ]
  },
  {
   "cell_type": "code",
   "execution_count": null,
   "metadata": {},
   "outputs": [],
   "source": [
    "it_num = 100\n",
    "repetition = 100\n",
    "\n",
    "N = 5\n",
    "C = 10\n",
    " \n",
    "for eps in eps_list:\n",
    "    for i in range(it_num):\n",
    "        mean_values = np.random.uniform(0.5-eps, 0.5+eps, N)\n",
    "        service_rates = np.array([1/1000 for i in range(N)])\n",
    "        max_service_time = np.max(1/service_rates)\n",
    "        S = math.floor( (max_service_time**(2/3)) * (np.log(N*max_service_time)) / C)\n",
    "        \n",
    "        trials_p = np.array([])\n",
    "        for j in range(repetition):\n",
    "            samples = [(bernoulli.rvs(mean_values[n], size=1)).tolist() for n in range(N)]\n",
    "            trials_p = np.append(trials_p, preemptive(mean_values, service_rates, samples))\n",
    "\n",
    "        trials_nonp = np.array([])\n",
    "        for j in range(repetition):\n",
    "            samples = [(bernoulli.rvs(mean_values[n], size=1)).tolist() for n in range(N)]\n",
    "            trials_nonp = np.append(trials_nonp, nonpreemptive(mean_values, service_rates, samples))\n",
    "    \n",
    "        trials_pnonp = np.array([])\n",
    "        for j in range(repetition):\n",
    "            samples = [(bernoulli.rvs(mean_values[n], size=1)).tolist() for n in range(N)]\n",
    "            trials_pnonp = np.append(trials_pnonp, preemptive_then_nonpreemptive(mean_values, service_rates, samples))\n",
    "        \n",
    "        pre = np.mean(trials_p)\n",
    "        non = np.mean(trials_nonp)\n",
    "        pre_non_pre = np.mean(trials_pnonp)\n",
    "        OPT = optimal(mean_values, service_rates)\n",
    "        \n",
    "        df = pd.read_csv('results_geo.csv')\n",
    "        df = df.append({'num_jobs': N, 'service_time': 1000, 'eps': eps, 'instance_number': i+1, 'rep_number': j+1, \n",
    "                        'OPT': OPT, 'preemptive': pre, 'non-preemptive': non, 'pre-non-pre': pre_non_pre}, \n",
    "                       ignore_index = True)\n",
    "        df.to_csv('results_geo.csv', index=False)"
   ]
  },
  {
   "cell_type": "code",
   "execution_count": 53,
   "metadata": {},
   "outputs": [
    {
     "data": {
      "image/png": "[encoded data removed]",
      "text/plain": [
       "<Figure size 432x288 with 1 Axes>"
      ]
     },
     "metadata": {
      "needs_background": "light"
     },
     "output_type": "display_data"
    }
   ],
   "source": [
    "df = pd.read_csv('results/geo/uniform/results_geo.csv')\n",
    "filt = (df['num_jobs'] == 5) & (df['service_time'] == 20000)\n",
    "filtered = df[filt]\n",
    "sns.lineplot(x=filtered['eps'], y=filtered['preemptive']-filtered['OPT'], label='preemptive')\n",
    "sns.lineplot(x=filtered['eps'], y=filtered['non-preemptive']-filtered['OPT'], label='nonpreemptive')\n",
    "sns.lineplot(x=filtered['eps'], y=filtered['pre-non-pre']-filtered['OPT'], label='preemptive-then-nonpreemptive')\n",
    "plt.xlabel(r'$\\epsilon$', fontsize=20)\n",
    "plt.ylabel(\"Regret\", fontsize=20)\n",
    "plt.legend(fontsize=10)\n",
    "plt.savefig('uniform-regret.pdf', bbox_inches = 'tight')"
   ]
  },
  {
   "cell_type": "code",
   "execution_count": 55,
   "metadata": {},
   "outputs": [
    {
     "data": {
      "image/png": "[encoded data removed]",
      "text/plain": [
       "<Figure size 432x288 with 1 Axes>"
      ]
     },
     "metadata": {
      "needs_background": "light"
     },
     "output_type": "display_data"
    }
   ],
   "source": [
    "df = pd.read_csv('results/geo/uniform/results_geo.csv')\n",
    "filt = (df['num_jobs'] == 5) & (df['service_time'] == 20000)\n",
    "filtered = df[filt]\n",
    "sns.lineplot(x=filtered['eps'], y=filtered['preemptive']/filtered['OPT'] -1, label='preemptive')\n",
    "sns.lineplot(x=filtered['eps'], y=filtered['non-preemptive']/filtered['OPT'] -1, label='nonpreemptive')\n",
    "sns.lineplot(x=filtered['eps'], y=filtered['pre-non-pre']/filtered['OPT']-1, label='preemptive-then-nonpreemptive')\n",
    "plt.xlabel(r'$\\epsilon$', fontsize=20)\n",
    "plt.ylabel(\"Relative regret\", fontsize=20)\n",
    "plt.legend(fontsize=10)\n",
    "plt.savefig('uniform-regret.pdf', bbox_inches = 'tight')"
   ]
  },
  {
   "cell_type": "code",
   "execution_count": 50,
   "metadata": {},
   "outputs": [
    {
     "ename": "KeyboardInterrupt",
     "evalue": "",
     "output_type": "error",
     "traceback": [
      "\u001b[0;31m---------------------------------------------------------------------------\u001b[0m",
      "\u001b[0;31mKeyboardInterrupt\u001b[0m                         Traceback (most recent call last)",
      "\u001b[0;32m<ipython-input-50-8d37f699576c>\u001b[0m in \u001b[0;36m<module>\u001b[0;34m\u001b[0m\n\u001b[1;32m     15\u001b[0m         \u001b[0;32mfor\u001b[0m \u001b[0mj\u001b[0m \u001b[0;32min\u001b[0m \u001b[0mrange\u001b[0m\u001b[0;34m(\u001b[0m\u001b[0mrepetition\u001b[0m\u001b[0;34m)\u001b[0m\u001b[0;34m:\u001b[0m\u001b[0;34m\u001b[0m\u001b[0;34m\u001b[0m\u001b[0m\n\u001b[1;32m     16\u001b[0m             \u001b[0msamples\u001b[0m \u001b[0;34m=\u001b[0m \u001b[0;34m[\u001b[0m\u001b[0;34m(\u001b[0m\u001b[0mbernoulli\u001b[0m\u001b[0;34m.\u001b[0m\u001b[0mrvs\u001b[0m\u001b[0;34m(\u001b[0m\u001b[0mmean_values\u001b[0m\u001b[0;34m[\u001b[0m\u001b[0mn\u001b[0m\u001b[0;34m]\u001b[0m\u001b[0;34m,\u001b[0m \u001b[0msize\u001b[0m\u001b[0;34m=\u001b[0m\u001b[0;36m1\u001b[0m\u001b[0;34m)\u001b[0m\u001b[0;34m)\u001b[0m\u001b[0;34m.\u001b[0m\u001b[0mtolist\u001b[0m\u001b[0;34m(\u001b[0m\u001b[0;34m)\u001b[0m \u001b[0;32mfor\u001b[0m \u001b[0mn\u001b[0m \u001b[0;32min\u001b[0m \u001b[0mrange\u001b[0m\u001b[0;34m(\u001b[0m\u001b[0mN\u001b[0m\u001b[0;34m)\u001b[0m\u001b[0;34m]\u001b[0m\u001b[0;34m\u001b[0m\u001b[0;34m\u001b[0m\u001b[0m\n\u001b[0;32m---> 17\u001b[0;31m             \u001b[0mtrials_p\u001b[0m \u001b[0;34m=\u001b[0m \u001b[0mnp\u001b[0m\u001b[0;34m.\u001b[0m\u001b[0mappend\u001b[0m\u001b[0;34m(\u001b[0m\u001b[0mtrials_p\u001b[0m\u001b[0;34m,\u001b[0m \u001b[0mpreemptive\u001b[0m\u001b[0;34m(\u001b[0m\u001b[0mmean_values\u001b[0m\u001b[0;34m,\u001b[0m \u001b[0mservice_rates\u001b[0m\u001b[0;34m,\u001b[0m \u001b[0msamples\u001b[0m\u001b[0;34m)\u001b[0m\u001b[0;34m)\u001b[0m\u001b[0;34m\u001b[0m\u001b[0;34m\u001b[0m\u001b[0m\n\u001b[0m\u001b[1;32m     18\u001b[0m \u001b[0;34m\u001b[0m\u001b[0m\n\u001b[1;32m     19\u001b[0m         \u001b[0mtrials_nonp\u001b[0m \u001b[0;34m=\u001b[0m \u001b[0mnp\u001b[0m\u001b[0;34m.\u001b[0m\u001b[0marray\u001b[0m\u001b[0;34m(\u001b[0m\u001b[0;34m[\u001b[0m\u001b[0;34m]\u001b[0m\u001b[0;34m)\u001b[0m\u001b[0;34m\u001b[0m\u001b[0;34m\u001b[0m\u001b[0m\n",
      "\u001b[0;32m<ipython-input-11-5ed50d7683a6>\u001b[0m in \u001b[0;36mpreemptive\u001b[0;34m(mean_values, service_rates, samples)\u001b[0m\n\u001b[1;32m      6\u001b[0m     \u001b[0;32mwhile\u001b[0m \u001b[0mactive_jobs\u001b[0m\u001b[0;34m.\u001b[0m\u001b[0msize\u001b[0m \u001b[0;34m>=\u001b[0m \u001b[0;36m1\u001b[0m\u001b[0;34m:\u001b[0m\u001b[0;34m\u001b[0m\u001b[0;34m\u001b[0m\u001b[0m\n\u001b[1;32m      7\u001b[0m         \u001b[0mtotal_cost\u001b[0m \u001b[0;34m+=\u001b[0m \u001b[0mholding_cost\u001b[0m\u001b[0;34m(\u001b[0m\u001b[0mmean_values\u001b[0m\u001b[0;34m,\u001b[0m \u001b[0mactive_jobs\u001b[0m\u001b[0;34m)\u001b[0m\u001b[0;34m\u001b[0m\u001b[0;34m\u001b[0m\u001b[0m\n\u001b[0;32m----> 8\u001b[0;31m         \u001b[0mchosen_job\u001b[0m \u001b[0;34m=\u001b[0m \u001b[0mselect_job\u001b[0m\u001b[0;34m(\u001b[0m\u001b[0mt\u001b[0m\u001b[0;34m,\u001b[0m \u001b[0msamples\u001b[0m\u001b[0;34m,\u001b[0m \u001b[0mmean_values\u001b[0m\u001b[0;34m,\u001b[0m \u001b[0mservice_rates\u001b[0m\u001b[0;34m,\u001b[0m \u001b[0mactive_jobs\u001b[0m\u001b[0;34m)\u001b[0m\u001b[0;34m\u001b[0m\u001b[0;34m\u001b[0m\u001b[0m\n\u001b[0m\u001b[1;32m      9\u001b[0m         \u001b[0mserved\u001b[0m \u001b[0;34m=\u001b[0m \u001b[0mserve\u001b[0m\u001b[0;34m(\u001b[0m\u001b[0mchosen_job\u001b[0m\u001b[0;34m,\u001b[0m \u001b[0mservice_rates\u001b[0m\u001b[0;34m[\u001b[0m\u001b[0mchosen_job\u001b[0m\u001b[0;34m]\u001b[0m\u001b[0;34m,\u001b[0m \u001b[0mremaining\u001b[0m\u001b[0;34m)\u001b[0m\u001b[0;34m\u001b[0m\u001b[0;34m\u001b[0m\u001b[0m\n\u001b[1;32m     10\u001b[0m         \u001b[0;32mif\u001b[0m \u001b[0mserved\u001b[0m\u001b[0;34m:\u001b[0m\u001b[0;34m\u001b[0m\u001b[0;34m\u001b[0m\u001b[0m\n",
      "\u001b[0;32m<ipython-input-8-68a778a8b1f8>\u001b[0m in \u001b[0;36mselect_job\u001b[0;34m(t, samples, mean_values, service_rates, jobs)\u001b[0m\n\u001b[1;32m      2\u001b[0m     \u001b[0;32mfor\u001b[0m \u001b[0mi\u001b[0m \u001b[0;32min\u001b[0m \u001b[0mjobs\u001b[0m\u001b[0;34m:\u001b[0m\u001b[0;34m\u001b[0m\u001b[0;34m\u001b[0m\u001b[0m\n\u001b[1;32m      3\u001b[0m         \u001b[0msamples\u001b[0m\u001b[0;34m[\u001b[0m\u001b[0mi\u001b[0m\u001b[0;34m]\u001b[0m\u001b[0;34m.\u001b[0m\u001b[0mappend\u001b[0m\u001b[0;34m(\u001b[0m\u001b[0mbernoulli\u001b[0m\u001b[0;34m.\u001b[0m\u001b[0mrvs\u001b[0m\u001b[0;34m(\u001b[0m\u001b[0mmean_values\u001b[0m\u001b[0;34m[\u001b[0m\u001b[0mi\u001b[0m\u001b[0;34m]\u001b[0m\u001b[0;34m,\u001b[0m \u001b[0msize\u001b[0m\u001b[0;34m=\u001b[0m\u001b[0;36m1\u001b[0m\u001b[0;34m)\u001b[0m\u001b[0;34m[\u001b[0m\u001b[0;36m0\u001b[0m\u001b[0;34m]\u001b[0m\u001b[0;34m)\u001b[0m\u001b[0;34m\u001b[0m\u001b[0;34m\u001b[0m\u001b[0m\n\u001b[0;32m----> 4\u001b[0;31m     \u001b[0mc_mu\u001b[0m \u001b[0;34m=\u001b[0m \u001b[0mnp\u001b[0m\u001b[0;34m.\u001b[0m\u001b[0marray\u001b[0m\u001b[0;34m(\u001b[0m\u001b[0;34m[\u001b[0m\u001b[0;34m(\u001b[0m\u001b[0mnp\u001b[0m\u001b[0;34m.\u001b[0m\u001b[0mmean\u001b[0m\u001b[0;34m(\u001b[0m\u001b[0msamples\u001b[0m\u001b[0;34m[\u001b[0m\u001b[0mi\u001b[0m\u001b[0;34m]\u001b[0m\u001b[0;34m[\u001b[0m\u001b[0;36m0\u001b[0m\u001b[0;34m:\u001b[0m\u001b[0mt\u001b[0m\u001b[0;34m+\u001b[0m\u001b[0;36m1\u001b[0m\u001b[0;34m]\u001b[0m\u001b[0;34m)\u001b[0m \u001b[0;34m*\u001b[0m \u001b[0mservice_rates\u001b[0m\u001b[0;34m[\u001b[0m\u001b[0mi\u001b[0m\u001b[0;34m]\u001b[0m\u001b[0;34m)\u001b[0m \u001b[0;32mfor\u001b[0m \u001b[0mi\u001b[0m \u001b[0;32min\u001b[0m \u001b[0mjobs\u001b[0m\u001b[0;34m]\u001b[0m\u001b[0;34m)\u001b[0m\u001b[0;34m\u001b[0m\u001b[0;34m\u001b[0m\u001b[0m\n\u001b[0m\u001b[1;32m      5\u001b[0m     \u001b[0;32mreturn\u001b[0m \u001b[0mjobs\u001b[0m\u001b[0;34m[\u001b[0m\u001b[0mnp\u001b[0m\u001b[0;34m.\u001b[0m\u001b[0margmax\u001b[0m\u001b[0;34m(\u001b[0m\u001b[0mc_mu\u001b[0m\u001b[0;34m)\u001b[0m\u001b[0;34m]\u001b[0m\u001b[0;34m\u001b[0m\u001b[0;34m\u001b[0m\u001b[0m\n\u001b[1;32m      6\u001b[0m \u001b[0;34m\u001b[0m\u001b[0m\n",
      "\u001b[0;32m<ipython-input-8-68a778a8b1f8>\u001b[0m in \u001b[0;36m<listcomp>\u001b[0;34m(.0)\u001b[0m\n\u001b[1;32m      2\u001b[0m     \u001b[0;32mfor\u001b[0m \u001b[0mi\u001b[0m \u001b[0;32min\u001b[0m \u001b[0mjobs\u001b[0m\u001b[0;34m:\u001b[0m\u001b[0;34m\u001b[0m\u001b[0;34m\u001b[0m\u001b[0m\n\u001b[1;32m      3\u001b[0m         \u001b[0msamples\u001b[0m\u001b[0;34m[\u001b[0m\u001b[0mi\u001b[0m\u001b[0;34m]\u001b[0m\u001b[0;34m.\u001b[0m\u001b[0mappend\u001b[0m\u001b[0;34m(\u001b[0m\u001b[0mbernoulli\u001b[0m\u001b[0;34m.\u001b[0m\u001b[0mrvs\u001b[0m\u001b[0;34m(\u001b[0m\u001b[0mmean_values\u001b[0m\u001b[0;34m[\u001b[0m\u001b[0mi\u001b[0m\u001b[0;34m]\u001b[0m\u001b[0;34m,\u001b[0m \u001b[0msize\u001b[0m\u001b[0;34m=\u001b[0m\u001b[0;36m1\u001b[0m\u001b[0;34m)\u001b[0m\u001b[0;34m[\u001b[0m\u001b[0;36m0\u001b[0m\u001b[0;34m]\u001b[0m\u001b[0;34m)\u001b[0m\u001b[0;34m\u001b[0m\u001b[0;34m\u001b[0m\u001b[0m\n\u001b[0;32m----> 4\u001b[0;31m     \u001b[0mc_mu\u001b[0m \u001b[0;34m=\u001b[0m \u001b[0mnp\u001b[0m\u001b[0;34m.\u001b[0m\u001b[0marray\u001b[0m\u001b[0;34m(\u001b[0m\u001b[0;34m[\u001b[0m\u001b[0;34m(\u001b[0m\u001b[0mnp\u001b[0m\u001b[0;34m.\u001b[0m\u001b[0mmean\u001b[0m\u001b[0;34m(\u001b[0m\u001b[0msamples\u001b[0m\u001b[0;34m[\u001b[0m\u001b[0mi\u001b[0m\u001b[0;34m]\u001b[0m\u001b[0;34m[\u001b[0m\u001b[0;36m0\u001b[0m\u001b[0;34m:\u001b[0m\u001b[0mt\u001b[0m\u001b[0;34m+\u001b[0m\u001b[0;36m1\u001b[0m\u001b[0;34m]\u001b[0m\u001b[0;34m)\u001b[0m \u001b[0;34m*\u001b[0m \u001b[0mservice_rates\u001b[0m\u001b[0;34m[\u001b[0m\u001b[0mi\u001b[0m\u001b[0;34m]\u001b[0m\u001b[0;34m)\u001b[0m \u001b[0;32mfor\u001b[0m \u001b[0mi\u001b[0m \u001b[0;32min\u001b[0m \u001b[0mjobs\u001b[0m\u001b[0;34m]\u001b[0m\u001b[0;34m)\u001b[0m\u001b[0;34m\u001b[0m\u001b[0;34m\u001b[0m\u001b[0m\n\u001b[0m\u001b[1;32m      5\u001b[0m     \u001b[0;32mreturn\u001b[0m \u001b[0mjobs\u001b[0m\u001b[0;34m[\u001b[0m\u001b[0mnp\u001b[0m\u001b[0;34m.\u001b[0m\u001b[0margmax\u001b[0m\u001b[0;34m(\u001b[0m\u001b[0mc_mu\u001b[0m\u001b[0;34m)\u001b[0m\u001b[0;34m]\u001b[0m\u001b[0;34m\u001b[0m\u001b[0;34m\u001b[0m\u001b[0m\n\u001b[1;32m      6\u001b[0m \u001b[0;34m\u001b[0m\u001b[0m\n",
      "\u001b[0;32m<__array_function__ internals>\u001b[0m in \u001b[0;36mmean\u001b[0;34m(*args, **kwargs)\u001b[0m\n",
      "\u001b[0;32m~/opt/anaconda3/lib/python3.8/site-packages/numpy/core/fromnumeric.py\u001b[0m in \u001b[0;36mmean\u001b[0;34m(a, axis, dtype, out, keepdims)\u001b[0m\n\u001b[1;32m   3370\u001b[0m             \u001b[0;32mreturn\u001b[0m \u001b[0mmean\u001b[0m\u001b[0;34m(\u001b[0m\u001b[0maxis\u001b[0m\u001b[0;34m=\u001b[0m\u001b[0maxis\u001b[0m\u001b[0;34m,\u001b[0m \u001b[0mdtype\u001b[0m\u001b[0;34m=\u001b[0m\u001b[0mdtype\u001b[0m\u001b[0;34m,\u001b[0m \u001b[0mout\u001b[0m\u001b[0;34m=\u001b[0m\u001b[0mout\u001b[0m\u001b[0;34m,\u001b[0m \u001b[0;34m**\u001b[0m\u001b[0mkwargs\u001b[0m\u001b[0;34m)\u001b[0m\u001b[0;34m\u001b[0m\u001b[0;34m\u001b[0m\u001b[0m\n\u001b[1;32m   3371\u001b[0m \u001b[0;34m\u001b[0m\u001b[0m\n\u001b[0;32m-> 3372\u001b[0;31m     return _methods._mean(a, axis=axis, dtype=dtype,\n\u001b[0m\u001b[1;32m   3373\u001b[0m                           out=out, **kwargs)\n\u001b[1;32m   3374\u001b[0m \u001b[0;34m\u001b[0m\u001b[0m\n",
      "\u001b[0;32m~/opt/anaconda3/lib/python3.8/site-packages/numpy/core/_methods.py\u001b[0m in \u001b[0;36m_mean\u001b[0;34m(a, axis, dtype, out, keepdims)\u001b[0m\n\u001b[1;32m    145\u001b[0m \u001b[0;34m\u001b[0m\u001b[0m\n\u001b[1;32m    146\u001b[0m     \u001b[0mis_float16_result\u001b[0m \u001b[0;34m=\u001b[0m \u001b[0;32mFalse\u001b[0m\u001b[0;34m\u001b[0m\u001b[0;34m\u001b[0m\u001b[0m\n\u001b[0;32m--> 147\u001b[0;31m     \u001b[0mrcount\u001b[0m \u001b[0;34m=\u001b[0m \u001b[0m_count_reduce_items\u001b[0m\u001b[0;34m(\u001b[0m\u001b[0marr\u001b[0m\u001b[0;34m,\u001b[0m \u001b[0maxis\u001b[0m\u001b[0;34m)\u001b[0m\u001b[0;34m\u001b[0m\u001b[0;34m\u001b[0m\u001b[0m\n\u001b[0m\u001b[1;32m    148\u001b[0m     \u001b[0;31m# Make this warning show up first\u001b[0m\u001b[0;34m\u001b[0m\u001b[0;34m\u001b[0m\u001b[0;34m\u001b[0m\u001b[0m\n\u001b[1;32m    149\u001b[0m     \u001b[0;32mif\u001b[0m \u001b[0mrcount\u001b[0m \u001b[0;34m==\u001b[0m \u001b[0;36m0\u001b[0m\u001b[0;34m:\u001b[0m\u001b[0;34m\u001b[0m\u001b[0;34m\u001b[0m\u001b[0m\n",
      "\u001b[0;32m~/opt/anaconda3/lib/python3.8/site-packages/numpy/core/_methods.py\u001b[0m in \u001b[0;36m_count_reduce_items\u001b[0;34m(arr, axis)\u001b[0m\n\u001b[1;32m     64\u001b[0m     \u001b[0mitems\u001b[0m \u001b[0;34m=\u001b[0m \u001b[0;36m1\u001b[0m\u001b[0;34m\u001b[0m\u001b[0;34m\u001b[0m\u001b[0m\n\u001b[1;32m     65\u001b[0m     \u001b[0;32mfor\u001b[0m \u001b[0max\u001b[0m \u001b[0;32min\u001b[0m \u001b[0maxis\u001b[0m\u001b[0;34m:\u001b[0m\u001b[0;34m\u001b[0m\u001b[0;34m\u001b[0m\u001b[0m\n\u001b[0;32m---> 66\u001b[0;31m         \u001b[0mitems\u001b[0m \u001b[0;34m*=\u001b[0m \u001b[0marr\u001b[0m\u001b[0;34m.\u001b[0m\u001b[0mshape\u001b[0m\u001b[0;34m[\u001b[0m\u001b[0mmu\u001b[0m\u001b[0;34m.\u001b[0m\u001b[0mnormalize_axis_index\u001b[0m\u001b[0;34m(\u001b[0m\u001b[0max\u001b[0m\u001b[0;34m,\u001b[0m \u001b[0marr\u001b[0m\u001b[0;34m.\u001b[0m\u001b[0mndim\u001b[0m\u001b[0;34m)\u001b[0m\u001b[0;34m]\u001b[0m\u001b[0;34m\u001b[0m\u001b[0;34m\u001b[0m\u001b[0m\n\u001b[0m\u001b[1;32m     67\u001b[0m     \u001b[0;32mreturn\u001b[0m \u001b[0mitems\u001b[0m\u001b[0;34m\u001b[0m\u001b[0;34m\u001b[0m\u001b[0m\n\u001b[1;32m     68\u001b[0m \u001b[0;34m\u001b[0m\u001b[0m\n",
      "\u001b[0;31mKeyboardInterrupt\u001b[0m: "
     ]
    }
   ],
   "source": [
    "it_num = 100\n",
    "repetition = 100\n",
    "\n",
    "N = 5\n",
    "C = 10\n",
    " \n",
    "for eps in eps_list:\n",
    "    for i in range(it_num):\n",
    "        mean_values = np.random.uniform(0.5-eps, 0.5+eps, N)\n",
    "        service_rates = sample_service_rates(N, 0.7)\n",
    "        max_service_time = np.max(1/service_rates)\n",
    "        S = math.floor( (max_service_time**(2/3)) * (np.log(N*max_service_time)) / C)\n",
    "        \n",
    "        trials_p = np.array([])\n",
    "        for j in range(repetition):\n",
    "            samples = [(bernoulli.rvs(mean_values[n], size=1)).tolist() for n in range(N)]\n",
    "            trials_p = np.append(trials_p, preemptive(mean_values, service_rates, samples))\n",
    "\n",
    "        trials_nonp = np.array([])\n",
    "        for j in range(repetition):\n",
    "            samples = [(bernoulli.rvs(mean_values[n], size=1)).tolist() for n in range(N)]\n",
    "            trials_nonp = np.append(trials_nonp, nonpreemptive(mean_values, service_rates, samples))\n",
    "    \n",
    "        trials_pnonp = np.array([])\n",
    "        for j in range(repetition):\n",
    "            samples = [(bernoulli.rvs(mean_values[n], size=1)).tolist() for n in range(N)]\n",
    "            trials_pnonp = np.append(trials_pnonp, preemptive_then_nonpreemptive(mean_values, service_rates, samples))\n",
    "        \n",
    "        pre = np.mean(trials_p)\n",
    "        non = np.mean(trials_nonp)\n",
    "        pre_non_pre = np.mean(trials_pnonp)\n",
    "        OPT = optimal(mean_values, service_rates)\n",
    "        \n",
    "        df = pd.read_csv('results_geo.csv')\n",
    "        df = df.append({'num_jobs': N, 'service_time': 20000, 'eps': eps, 'instance_number': i+1, 'rep_number': j+1, \n",
    "                        'OPT': OPT, 'preemptive': pre, 'non-preemptive': non, 'pre-non-pre': pre_non_pre}, \n",
    "                       ignore_index = True)\n",
    "        df.to_csv('results_geo.csv', index=False)"
   ]
  },
  {
   "cell_type": "code",
   "execution_count": 24,
   "metadata": {},
   "outputs": [
    {
     "name": "stdout",
     "output_type": "stream",
     "text": [
      "[0.49175541 0.50709131 0.49419265 0.50338519 0.50464867]\n",
      "[0.005 0.005 0.005 0.005 0.005]\n",
      "23\n"
     ]
    }
   ],
   "source": [
    "eps = 0.01\n",
    "N = 5\n",
    "C = 10\n",
    "mean_values = np.random.uniform(0.5-eps, 0.5+eps, N)\n",
    "#service_rates = sample_service_rates(N, 0.7)\n",
    "service_rates = np.array([1/200 for i in range(N)])\n",
    "max_service_time = np.max(1/service_rates)\n",
    "S = math.floor( (max_service_time**(2/3)) * (np.log(N*max_service_time)) / C)\n",
    "print(mean_values)\n",
    "print(service_rates)\n",
    "print(S)"
   ]
  },
  {
   "cell_type": "code",
   "execution_count": 25,
   "metadata": {},
   "outputs": [
    {
     "name": "stdout",
     "output_type": "stream",
     "text": [
      "1558.6609490150743\n",
      "1529.4477151290896\n",
      "1396.8859142819638\n",
      "1380.4620633964512\n",
      "1492.4183824325182\n",
      "\n",
      "66.24256658255604\n",
      "37.02933269657137\n",
      "-95.53246815055445\n"
     ]
    }
   ],
   "source": [
    "trials_p = np.array([])\n",
    "for i in range(10):\n",
    "    samples = [(bernoulli.rvs(mean_values[i], size=1)).tolist() for i in range(N)]\n",
    "    trials_p = np.append(trials_p, preemptive(mean_values, service_rates, samples))\n",
    "\n",
    "trials_nonp = np.array([])\n",
    "for i in range(10):\n",
    "    samples = [(bernoulli.rvs(mean_values[i], size=1)).tolist() for i in range(N)]\n",
    "    trials_nonp = np.append(trials_nonp, nonpreemptive(mean_values, service_rates, samples))\n",
    "    \n",
    "trials_pnonp = np.array([])\n",
    "for i in range(10):\n",
    "    samples = [(bernoulli.rvs(mean_values[i], size=1)).tolist() for i in range(N)]\n",
    "    trials_pnonp = np.append(trials_pnonp, preemptive_then_nonpreemptive(mean_values, service_rates, samples))    \n",
    "\n",
    "trials_opt = np.array([])\n",
    "for i in range(10):\n",
    "    trials_opt = np.append(trials_opt, optimal_rule(mean_values, service_rates))\n",
    "\n",
    "p_average = np.mean(trials_p)\n",
    "nonp_average = np.mean(trials_nonp)\n",
    "pnonp_average = np.mean(trials_pnonp)\n",
    "opt_average = np.mean(trials_opt)\n",
    "opt = optimal(mean_values, service_rates)\n",
    "\n",
    "print(p_average)\n",
    "print(nonp_average)\n",
    "print(pnonp_average)\n",
    "print(opt_average)\n",
    "print(opt)\n",
    "print(\"\")\n",
    "print(p_average-opt)\n",
    "print(nonp_average-opt)\n",
    "print(pnonp_average-opt)"
   ]
  },
  {
   "cell_type": "code",
   "execution_count": null,
   "metadata": {},
   "outputs": [],
   "source": []
  }
 ],
 "metadata": {
  "kernelspec": {
   "display_name": "Python 3",
   "language": "python",
   "name": "python3"
  },
  "language_info": {
   "codemirror_mode": {
    "name": "ipython",
    "version": 3
   },
   "file_extension": ".py",
   "mimetype": "text/x-python",
   "name": "python",
   "nbconvert_exporter": "python",
   "pygments_lexer": "ipython3",
   "version": "3.8.5"
  }
 },
 "nbformat": 4,
 "nbformat_minor": 4
}
